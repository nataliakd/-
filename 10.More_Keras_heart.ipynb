{
 "cells": [
  {
   "cell_type": "markdown",
   "metadata": {},
   "source": [
    "# Annotations for the Sirajology Python NN Example\n",
    "\n",
    "Инспирировано https://m.habr.com/ru/company/wunderfund/blog/314242/\n",
    "\n",
    "Потребуются `pip install tensorflow keras`"
   ]
  },
  {
   "cell_type": "code",
   "execution_count": 2,
   "metadata": {},
   "outputs": [
    {
     "name": "stderr",
     "output_type": "stream",
     "text": [
      "Using TensorFlow backend.\n"
     ]
    }
   ],
   "source": [
    "import os\n",
    "import numpy as np\n",
    "from keras.models import Model\n",
    "from keras.layers import Dense, Input\n",
    "from keras.utils import np_utils"
   ]
  },
  {
   "cell_type": "markdown",
   "metadata": {},
   "source": [
    "The following code creates the input matrix. Although not mentioned in the video, the third column is for accommodating the bias term and is not part of the input. "
   ]
  },
  {
   "cell_type": "code",
   "execution_count": 3,
   "metadata": {},
   "outputs": [],
   "source": [
    "#input data\n",
    "\n",
    "\n",
    "X = []\n",
    "for i in range(80):\n",
    "    for j in range(80):\n",
    "        X.append([-2 + i * 0.05, -2 + j * 0.05])\n",
    "X = np.array(X)\n",
    "\n",
    "Y = [\n",
    "    1 if (-1 + x**2 + y**2)**3 <= 3 * x**2 * y**3 else 0\n",
    "    for [x, y] in X\n",
    "]"
   ]
  },
  {
   "cell_type": "code",
   "execution_count": 9,
   "metadata": {},
   "outputs": [
    {
     "name": "stderr",
     "output_type": "stream",
     "text": [
      "c:\\users\\acer\\appdata\\local\\programs\\python\\python36\\lib\\site-packages\\ipykernel_launcher.py:8: UserWarning: Update your `Model` call to the Keras 2 API: `Model(inputs=Tensor(\"in..., outputs=Tensor(\"de...)`\n",
      "  \n"
     ]
    }
   ],
   "source": [
    "l0 = Input(shape=(2,))\n",
    "l1 = Dense(10, activation='sigmoid', use_bias=True)(l0)\n",
    "l2 = Dense(5, activation='sigmoid', use_bias=True)(l1)\n",
    "l3 = Dense(1, activation='sigmoid', use_bias=False)(l2)\n",
    "\n",
    "\n",
    "\n",
    "model = Model(input=l0, output=l3)\n",
    "\n",
    "model.compile(\n",
    "    loss='mean_squared_error',\n",
    "    optimizer='adam',\n",
    "    metrics=['accuracy']\n",
    ")"
   ]
  },
  {
   "cell_type": "markdown",
   "metadata": {},
   "source": [
    "This is the main training loop. The output shows the evolution of the error between the model and desired. The error steadily decreases. "
   ]
  },
  {
   "cell_type": "code",
   "execution_count": 11,
   "metadata": {},
   "outputs": [],
   "source": [
    "if os.path.isfile(\"model4.h5\"):\n",
    "    model.load_weights(\"model4.h5\")\n",
    "else:\n",
    "    model.fit(\n",
    "        X, Y,\n",
    "        epochs=500,\n",
    "        verbose=False\n",
    "    )\n",
    "    model.save(\"model4.h5\")"
   ]
  },
  {
   "cell_type": "markdown",
   "metadata": {},
   "source": [
    "Ну и теперь посмотрим, как оно научилось ограничивать сердечко ^_^"
   ]
  },
  {
   "cell_type": "code",
   "execution_count": 12,
   "metadata": {},
   "outputs": [
    {
     "data": {
      "image/png": "[encoded data removed]",
      "text/plain": [
       "<Figure size 432x288 with 1 Axes>"
      ]
     },
     "metadata": {
      "needs_background": "light"
     },
     "output_type": "display_data"
    }
   ],
   "source": [
    "%matplotlib inline\n",
    "\n",
    "import matplotlib.pyplot as plt\n",
    "\n",
    "plt.axis('equal')\n",
    "\n",
    "c = np.r_[-2:2:0.1]\n",
    "\n",
    "# https://stackoverflow.com/a/11144716/539470 =)\n",
    "XY = np.transpose([np.tile(c, len(c)), np.repeat(c, len(c))])\n",
    "\n",
    "Z = model.predict(XY)\n",
    "\n",
    "for (x, y), z in zip(XY, Z):\n",
    "    plt.scatter(x, y, c='red' if z[0] >= 0.5 else 'green')\n",
    "\n",
    "plt.show()"
   ]
  },
  {
   "cell_type": "code",
   "execution_count": 13,
   "metadata": {},
   "outputs": [
    {
     "data": {
      "image/png": "[encoded data removed]",
      "text/plain": [
       "<Figure size 432x288 with 1 Axes>"
      ]
     },
     "metadata": {
      "needs_background": "light"
     },
     "output_type": "display_data"
    }
   ],
   "source": [
    "def saturate(v):\n",
    "    return min(1, max(0, v))\n",
    "\n",
    "for (x, y), z in zip(XY, Z):\n",
    "    plt.scatter(x, y, color=[(1, 1-saturate(z[0]), 1-saturate(z[0]))])\n",
    "\n",
    "plt.show()"
   ]
  },
  {
   "cell_type": "code",
   "execution_count": null,
   "metadata": {},
   "outputs": [],
   "source": []
  }
 ],
 "metadata": {
  "anaconda-cloud": {},
  "kernelspec": {
   "display_name": "Python 3",
   "language": "python",
   "name": "python3"
  },
  "language_info": {
   "codemirror_mode": {
    "name": "ipython",
    "version": 3
   },
   "file_extension": ".py",
   "mimetype": "text/x-python",
   "name": "python",
   "nbconvert_exporter": "python",
   "pygments_lexer": "ipython3",
   "version": "3.6.8"
  }
 },
 "nbformat": 4,
 "nbformat_minor": 1
}

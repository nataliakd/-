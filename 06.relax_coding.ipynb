{
 "cells": [
  {
   "cell_type": "markdown",
   "metadata": {},
   "source": [
    "# Немного простого кодирования\n",
    "\n",
    "Для того чтобы размяться, расслабиться и получить ещё немножко удовольствия и очков.\n",
    "\n",
    "## A. Алгоритм Евклида\n",
    "\n",
    "[Тот самый](http://e-maxx.ru/algo/export_euclid_algorithm).\n",
    "\n",
    "Даны $a$ и $b$.\n",
    "\n",
    "$$\n",
    "\\text{gcd}(a,b) = \\begin{cases}\n",
    "a, & b = 0\\\\\n",
    "\\text{gcd}(b, a\\mod{}b), & b \\ne 0\n",
    "\\end{cases}\n",
    "$$\n",
    "\n",
    "Реализовать $\\text{gcd}$ на Python.\n",
    "\n",
    "## B. Реализовать функцию, которая отвечает, простое число, или нет\n",
    "\n",
    "Т.е. возвращает `True`, если оно простое, и `False` в противном случае.\n",
    "Можно совершенно «в лоб», с проверкой на делимость, но чтобы проверок было не больше, чем необходимо.\n",
    "\n",
    "Но поскольку это решение неоптимально, следует воспользоваться возможностями *мемоизации* — декоратором [`@functools.lru_cache`](https://docs.python.org/3/library/functools.html#functools.lru_cache). Он похволяет кешировать результаты функций **без побочных эффектов**, чтобы не считать многократно то, что уже посчитано. При этом при помощи директивы `%timeit` можно посмотреть, насколько мемоизация ускоряет работу функции."
   ]
  },
  {
   "cell_type": "code",
   "execution_count": 1,
   "metadata": {},
   "outputs": [
    {
     "data": {
      "text/plain": [
       "2"
      ]
     },
     "execution_count": 1,
     "metadata": {},
     "output_type": "execute_result"
    }
   ],
   "source": [
    "x = 274\n",
    "y = 82\n",
    "def gcd(x : 'int', y : 'int') -> 'int' :\n",
    "    while y != 0 :\n",
    "        x, y = y, (x % y)\n",
    "    return (x)\n",
    "gcd(x, y)"
   ]
  },
  {
   "cell_type": "code",
   "execution_count": 2,
   "metadata": {},
   "outputs": [],
   "source": [
    "import functools\n",
    "\n",
    "def is_simple(value: 'int') -> 'bool':\n",
    "    if(value == 2):\n",
    "        return True\n",
    "    if(value % 2 == 0):\n",
    "        return False\n",
    "    a=3\n",
    "    while(a*a <= value):\n",
    "        if(value % a == 0):\n",
    "            return False\n",
    "        a+=2\n",
    "    return True\n",
    "\n",
    "@functools.lru_cache()\n",
    "def is_simple_cached(value: 'int') -> 'bool':\n",
    "    return is_simple(value)"
   ]
  },
  {
   "cell_type": "markdown",
   "metadata": {},
   "source": [
    "## C. Вывод чисел в системе счисления с произвольным (но не более 36) основанием\n",
    "\n",
    "Если основание не превосходит $B \\le 10$, используются цифры $\\{0,1,\\ldots, B-1\\}$. Если от $10 < B \\le 36$, то $\\{0,\\ldots, 10, A \\ldots\\}$ в количестве $B$.\n",
    "\n",
    "Конструктор `int` в Python умеет получать $B$ на вход, что много кого не раз выручало:"
   ]
  },
  {
   "cell_type": "code",
   "execution_count": 21,
   "metadata": {},
   "outputs": [
    {
     "name": "stdout",
     "output_type": "stream",
     "text": [
      "44027\n"
     ]
    }
   ],
   "source": [
    "print(int('XYZ', 36))"
   ]
  },
  {
   "cell_type": "markdown",
   "metadata": {},
   "source": [
    "Ещё есть следующие полезные встроенные функции, они выручат нас:"
   ]
  },
  {
   "cell_type": "code",
   "execution_count": 22,
   "metadata": {},
   "outputs": [
    {
     "name": "stdout",
     "output_type": "stream",
     "text": [
      "65\n",
      "B\n"
     ]
    }
   ],
   "source": [
    "# Функция ord — номер символа в наборе Unicode\n",
    "print(ord('A'))\n",
    "\n",
    "# Функция chr — выводит символ с заданным номером:\n",
    "print(chr(ord('A') + 1))"
   ]
  },
  {
   "cell_type": "markdown",
   "metadata": {},
   "source": [
    "А вот такой полезной функции нету. А хочется, чтобы была:"
   ]
  },
  {
   "cell_type": "code",
   "execution_count": null,
   "metadata": {},
   "outputs": [],
   "source": [
    "def str_base(value: 'int', base: 'int') -> 'str':\n",
    "    \"\"\"Shows value using number base, e.g. str_base(44027, 36)=='XYZ'\"\"\"\n",
    "    def digit_to_letter(digit : 'int') -> 'str':\n",
    "        if digit >= 10:\n",
    "            digit = chr(digit - 10 + ord('A'))\n",
    "        else:\n",
    "            digit = str(digit)\n",
    "        return digit\n",
    "    number = ''\n",
    "    while value != 0:\n",
    "        number = digit_to_letter(value % base) + number\n",
    "        value = value // base\n",
    "    return number\n",
    "\n",
    "print(str_base(44027, 36))  # хочется увидеть 'XYZ'\n",
    "XYZ"
   ]
  },
  {
   "cell_type": "markdown",
   "metadata": {},
   "source": [
    "## D. Расширенный Алгоритм Евклида\n",
    "\n",
    "Тоже [тот самый](http://e-maxx.ru/algo/export_extended_euclid_algorithm).\n",
    "\n",
    "Даны $a$ и $b$. Обратиться к своим знаниям алгебры (если они не помогли, то можно сходить по ссылке выше) и реализовать $\\text{egcd}$, такую что $\\text{egcd}(a, b) = \\left<x, y, \\text{gcd}(a, b)\\right>$, такие что $\\text{gcd}(a, b) = ax + by$."
   ]
  },
  {
   "cell_type": "code",
   "execution_count": 3,
   "metadata": {},
   "outputs": [
    {
     "data": {
      "text/plain": [
       "(142, -183, 109)"
      ]
     },
     "execution_count": 3,
     "metadata": {},
     "output_type": "execute_result"
    }
   ],
   "source": [
    "def egcd (a: 'int', b: 'int') -> 'tuple' :\n",
    "    if b == 0:\n",
    "        return 1,0,a\n",
    "    else:\n",
    "        x, y, z = egcd(b, a % b)\n",
    "        return y, x-a // b*y, z\n",
    "    \n",
    "egcd(86110, 66817)"
   ]
  },
  {
   "cell_type": "code",
   "execution_count": null,
   "metadata": {},
   "outputs": [],
   "source": []
  }
 ],
 "metadata": {
  "kernelspec": {
   "display_name": "Python 3",
   "language": "python",
   "name": "python3"
  },
  "language_info": {
   "codemirror_mode": {
    "name": "ipython",
    "version": 3
   },
   "file_extension": ".py",
   "mimetype": "text/x-python",
   "name": "python",
   "nbconvert_exporter": "python",
   "pygments_lexer": "ipython3",
   "version": "3.7.0"
  }
 },
 "nbformat": 4,
 "nbformat_minor": 2
}
